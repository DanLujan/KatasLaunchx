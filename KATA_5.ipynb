{
 "cells": [
  {
   "cell_type": "markdown",
   "metadata": {},
   "source": [
    "## Ejercicio I\n",
    "\n",
    "Utilizar operadores aritmeticos"
   ]
  },
  {
   "cell_type": "code",
   "execution_count": null,
   "metadata": {},
   "outputs": [],
   "source": [
    "tierra = 149597870\n",
    "jupiter = 778547200\n",
    "distancia_planetas = jupiter - tierra \n",
    "distancia_millas = distancia_planetas * 0.621\n",
    "\n",
    "print(distancia_planetas)\n",
    "print(distancia_millas)"
   ]
  },
  {
   "cell_type": "markdown",
   "metadata": {},
   "source": [
    "## Ejercicio II\n",
    "\n",
    "Cadenas de número y valores absolutos"
   ]
  },
  {
   "cell_type": "code",
   "execution_count": null,
   "metadata": {},
   "outputs": [],
   "source": [
    "planeta_1 = input(\"distancia de planeta 1\")\n",
    "planeta_2 = input(\"distancia de planeta 2\")\n",
    "planeta_1 = int(planeta_1)\n",
    "planeta_2 = int(planeta_2)\n",
    "distancia = planeta_1 - planeta_2\n",
    "distancia = abs(distancia)\n",
    "miles = distancia * 0.621\n",
    "print(miles)\n",
    "\n"
   ]
  }
 ],
 "metadata": {
  "interpreter": {
   "hash": "5322818cae43cf6468214953b049884cb6ca7e8071f01fca2a6d6ce521d192bd"
  },
  "kernelspec": {
   "display_name": "Python 3.10.2 64-bit",
   "language": "python",
   "name": "python3"
  },
  "language_info": {
   "codemirror_mode": {
    "name": "ipython",
    "version": 3
   },
   "file_extension": ".py",
   "mimetype": "text/x-python",
   "name": "python",
   "nbconvert_exporter": "python",
   "pygments_lexer": "ipython3",
   "version": "3.10.2"
  },
  "orig_nbformat": 4
 },
 "nbformat": 4,
 "nbformat_minor": 2
}
