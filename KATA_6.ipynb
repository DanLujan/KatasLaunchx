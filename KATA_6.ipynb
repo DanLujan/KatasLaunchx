{
 "cells": [
  {
   "cell_type": "markdown",
   "metadata": {},
   "source": [
    "## Ejercicio I\n",
    "Crear y usar listas de python"
   ]
  },
  {
   "cell_type": "code",
   "execution_count": 6,
   "metadata": {},
   "outputs": [
    {
     "name": "stdout",
     "output_type": "stream",
     "text": [
      "Hay 8 planetas en el sistema solar ['Mercurio', 'Venus', 'Tierra', 'Marte', 'Jupiter', 'Saturno', 'Urano', 'Neptuno']\n"
     ]
    }
   ],
   "source": [
    "planetas = [\"Mercurio\", \"Venus\", \"Tierra\", \"Marte\", \"Jupiter\", \"Saturno\",\"Urano\", \"Neptuno\"]\n",
    "numero_de_planetas = len(planetas)\n",
    "print(\"Hay\",numero_de_planetas, \"planetas en el sistema solar\", planetas )\n"
   ]
  },
  {
   "cell_type": "code",
   "execution_count": 7,
   "metadata": {},
   "outputs": [
    {
     "name": "stdout",
     "output_type": "stream",
     "text": [
      "Hay 9 nueve planetas en el sistema solar ['Mercurio', 'Venus', 'Tierra', 'Marte', 'Jupiter', 'Saturno', 'Urano', 'Neptuno', 'Pluton']\n"
     ]
    }
   ],
   "source": [
    "planetas.append(\"Pluton\")\n",
    "numero_de_planetas = len(planetas)\n",
    "print(\"Hay\", numero_de_planetas,\"nueve planetas en el sistema solar\", planetas)"
   ]
  },
  {
   "cell_type": "markdown",
   "metadata": {},
   "source": [
    "## Ejercicio 2\n",
    "Trabajando con datos en una lista "
   ]
  },
  {
   "cell_type": "code",
   "execution_count": 11,
   "metadata": {},
   "outputs": [
    {
     "name": "stdout",
     "output_type": "stream",
     "text": [
      "Marte es el  4 planeta del sistema solar\n",
      "Estos son los planetas más cercanos a Marte:  ['Mercurio', 'Venus', 'Tierra']\n",
      "Estos son los planetas m+as lejanos a Marte:  ['Jupiter', 'Saturno', 'Urano']\n"
     ]
    }
   ],
   "source": [
    "planetas = [\"Mercurio\", \"Venus\", \"Tierra\", \"Marte\", \"Jupiter\", \"Saturno\",\"Urano\", \"Neptuno\"]\n",
    "soliictar = input(\"Escribe el nombre de un planeta\")\n",
    "Marte_index = planetas.index(\"Marte\")\n",
    "print(\"Marte es el \", Marte_index + 1, \"planeta del sistema solar\")\n",
    "planetas_cercanos = planetas[0:3]\n",
    "planetas_lejanos = planetas[4:7]\n",
    "print(\"Estos son los planetas más cercanos a Marte: \", planetas_cercanos)\n",
    "print(\"Estos son los planetas m+as lejanos a Marte: \", planetas_lejanos)"
   ]
  }
 ],
 "metadata": {
  "interpreter": {
   "hash": "5322818cae43cf6468214953b049884cb6ca7e8071f01fca2a6d6ce521d192bd"
  },
  "kernelspec": {
   "display_name": "Python 3.10.2 64-bit",
   "language": "python",
   "name": "python3"
  },
  "language_info": {
   "codemirror_mode": {
    "name": "ipython",
    "version": 3
   },
   "file_extension": ".py",
   "mimetype": "text/x-python",
   "name": "python",
   "nbconvert_exporter": "python",
   "pygments_lexer": "ipython3",
   "version": "3.10.2"
  },
  "orig_nbformat": 4
 },
 "nbformat": 4,
 "nbformat_minor": 2
}
