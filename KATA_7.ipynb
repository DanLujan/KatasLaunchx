{
  "cells": [
    {
      "cell_type": "markdown",
      "metadata": {},
      "source": [
        "## Ejercicio I\n",
        "Creación de un bucle while"
      ]
    },
    {
      "cell_type": "code",
      "execution_count": 3,
      "metadata": {},
      "outputs": [
        {
          "name": "stdout",
          "output_type": "stream",
          "text": [
            "['mercurio', 'venus']\n"
          ]
        }
      ],
      "source": [
        "new_planet = \"\"\n",
        "planets = []\n",
        "while new_planet.lower() != \"done\":\n",
        "    if new_planet:\n",
        "        planets.append(new_planet)\n",
        "    new_planet = input(\"Ingresa un planeta a la lista , o escribe done cuando termines\")\n",
        "print(planets)\n"
      ]
    },
    {
      "cell_type": "markdown",
      "metadata": {},
      "source": [
        "## Ejercicio II\n",
        "Creación ciclo for "
      ]
    },
    {
      "cell_type": "code",
      "execution_count": 5,
      "metadata": {},
      "outputs": [
        {
          "name": "stdout",
          "output_type": "stream",
          "text": [
            "['mercurio', 'venus', 'tierra', 'marte']\n",
            "['mercurio', 'venus', 'tierra', 'marte']\n",
            "['mercurio', 'venus', 'tierra', 'marte']\n",
            "['mercurio', 'venus', 'tierra', 'marte']\n"
          ]
        }
      ],
      "source": [
        "new_planet = \"\"\n",
        "planets = []\n",
        "while new_planet.lower() != \"done\":\n",
        "    if new_planet:\n",
        "        planets.append(new_planet)\n",
        "    new_planet = input(\"Ingresa un planeta a la lista , o escribe done cuando termines\")\n",
        "for planet in planets:\n",
        "    print(planets)\n",
        "    "
      ]
    }
  ],
  "metadata": {
    "interpreter": {
      "hash": "5322818cae43cf6468214953b049884cb6ca7e8071f01fca2a6d6ce521d192bd"
    },
    "kernelspec": {
      "display_name": "Python 3.10.2 64-bit",
      "language": "python",
      "name": "python3"
    },
    "language_info": {
      "codemirror_mode": {
        "name": "ipython",
        "version": 3
      },
      "file_extension": ".py",
      "mimetype": "text/x-python",
      "name": "python",
      "nbconvert_exporter": "python",
      "pygments_lexer": "ipython3",
      "version": "3.10.2"
    },
    "orig_nbformat": 4
  },
  "nbformat": 4,
  "nbformat_minor": 2
}
