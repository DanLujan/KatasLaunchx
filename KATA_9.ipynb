{
 "cells": [
  {
   "cell_type": "markdown",
   "metadata": {},
   "source": [
    "## Ejercicio 1\n",
    "Argumentos en funciones"
   ]
  },
  {
   "cell_type": "code",
   "execution_count": 9,
   "metadata": {},
   "outputs": [],
   "source": [
    "def tanqes_combustible(tanque1, tanque2, tanqu3):\n",
    "    promedio_tanques = (tanque1 + tanque2 + tanqu3)\n",
    "    return f\"Promedio total {promedio_tanques}\""
   ]
  },
  {
   "cell_type": "code",
   "execution_count": 10,
   "metadata": {},
   "outputs": [
    {
     "data": {
      "text/plain": [
       "'Promedio total 92'"
      ]
     },
     "execution_count": 10,
     "metadata": {},
     "output_type": "execute_result"
    }
   ],
   "source": [
    "tanqes_combustible( 25,22,45)"
   ]
  },
  {
   "cell_type": "code",
   "execution_count": 11,
   "metadata": {},
   "outputs": [],
   "source": [
    "def promedio(valores):\n",
    "    p_total = sum(valores)\n",
    "    tanques = len(valores)\n",
    "    return p_total / tanques"
   ]
  },
  {
   "cell_type": "markdown",
   "metadata": {},
   "source": [
    "## Ejercicio 2\n",
    "Argumentos de palabras clave en funciones"
   ]
  },
  {
   "cell_type": "code",
   "execution_count": 21,
   "metadata": {},
   "outputs": [],
   "source": [
    "def informe_mision(**kwargs):\n",
    "    print(f\"{len(kwargs)} Información importante de la misión:\")\n",
    "    for title, name in kwargs.items():\n",
    "        print(f\"{title}:{name}\")\n"
   ]
  },
  {
   "cell_type": "code",
   "execution_count": 22,
   "metadata": {},
   "outputs": [
    {
     "name": "stdout",
     "output_type": "stream",
     "text": [
      "5 Información importante de la misión:\n",
      "Hora:8 am\n",
      "Tiempo:3hrs\n",
      "destino:Luna\n",
      "Tanqueext:Lleno\n",
      "tanqueint:Lleno\n"
     ]
    }
   ],
   "source": [
    "informe_mision(Hora= \"8 am\", Tiempo= \"3hrs\", destino= \"Luna\", Tanqueext= \"Lleno\", tanqueint=\"Lleno\")"
   ]
  }
 ],
 "metadata": {
  "interpreter": {
   "hash": "5322818cae43cf6468214953b049884cb6ca7e8071f01fca2a6d6ce521d192bd"
  },
  "kernelspec": {
   "display_name": "Python 3.10.2 64-bit",
   "language": "python",
   "name": "python3"
  },
  "language_info": {
   "codemirror_mode": {
    "name": "ipython",
    "version": 3
   },
   "file_extension": ".py",
   "mimetype": "text/x-python",
   "name": "python",
   "nbconvert_exporter": "python",
   "pygments_lexer": "ipython3",
   "version": "3.10.2"
  },
  "orig_nbformat": 4
 },
 "nbformat": 4,
 "nbformat_minor": 2
}
