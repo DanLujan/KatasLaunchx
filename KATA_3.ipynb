{
 "cells": [
  {
   "cell_type": "markdown",
   "metadata": {},
   "source": [
    "## Ejercicio I \n",
    "\n",
    "Escribir declaraciones if, else, elif "
   ]
  },
  {
   "cell_type": "code",
   "execution_count": null,
   "metadata": {},
   "outputs": [],
   "source": [
    "a = 25 \n",
    "b = 49 \n",
    "if b > a:\n",
    "    print(\"Advertencia asteroide con mayor velocidad\")"
   ]
  },
  {
   "cell_type": "code",
   "execution_count": null,
   "metadata": {},
   "outputs": [],
   "source": [
    "a = 20 \n",
    "b = 19 \n",
    "if b > a: \n",
    "    print(\"Buscar asteroide en el cielo\")\n",
    "else:\n",
    "    print(\"Este asteroide no produce rayo de luz\")\n",
    "\n",
    "elif b == a:  \n",
    "    print(\"Buscar asteroide en el cielo\")\n",
    "else: \n",
    "    print(\"Este asteroide no produce rayo de luz\")    "
   ]
  },
  {
   "cell_type": "markdown",
   "metadata": {},
   "source": [
    "## Ejericio 2 \n",
    "Operadores and or "
   ]
  },
  {
   "cell_type": "code",
   "execution_count": 13,
   "metadata": {},
   "outputs": [
    {
     "name": "stdout",
     "output_type": "stream",
     "text": [
      "Posible daño a la tierra\n",
      "Todo en orden\n"
     ]
    }
   ],
   "source": [
    "a = 25 \n",
    "b = 1000\n",
    "c = 20 \n",
    "d = 19\n",
    "if c < a or c > b:\n",
    "    print(\"Posible daño a la tierra\")\n",
    "if d > a : \n",
    "        print(\"Advertencia asteroide peligroso\")\n",
    "if d >= c: \n",
    "    print(\"Observar rayo de luz de asteroide\")\n",
    "else:\n",
    "    print(\"Todo en orden\")\n"
   ]
  }
 ],
 "metadata": {
  "interpreter": {
   "hash": "5322818cae43cf6468214953b049884cb6ca7e8071f01fca2a6d6ce521d192bd"
  },
  "kernelspec": {
   "display_name": "Python 3.10.2 64-bit",
   "language": "python",
   "name": "python3"
  },
  "language_info": {
   "codemirror_mode": {
    "name": "ipython",
    "version": 3
   },
   "file_extension": ".py",
   "mimetype": "text/x-python",
   "name": "python",
   "nbconvert_exporter": "python",
   "pygments_lexer": "ipython3",
   "version": "3.10.2"
  },
  "orig_nbformat": 4
 },
 "nbformat": 4,
 "nbformat_minor": 2
}
