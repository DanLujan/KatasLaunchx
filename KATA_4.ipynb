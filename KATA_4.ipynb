{
 "cells": [
  {
   "cell_type": "markdown",
   "metadata": {},
   "source": [
    "## Ejercicio I \n",
    "Transformar cadenas"
   ]
  },
  {
   "cell_type": "code",
   "execution_count": null,
   "metadata": {},
   "outputs": [],
   "source": [
    "text = \"\"\"Interesting facts about the Moon: The Moon is Earth's only satellite. There are several interesting facts about the Moon and how it affects life here on Earth.\n",
    "On average, the Moon moves 4cm away from the Earth every year. This yearly drift is not significant enough to cause immediate effects on Earth. The highest daylight temperature of the Moon is 127 C.\"\"\"\n",
    "texto_partes = text.split(\".\")"
   ]
  },
  {
   "cell_type": "code",
   "execution_count": null,
   "metadata": {},
   "outputs": [],
   "source": [
    "texto_clave = [\"average\",\"temperature\",\"distance\"]\n",
    "\n",
    "            "
   ]
  },
  {
   "cell_type": "code",
   "execution_count": null,
   "metadata": {},
   "outputs": [],
   "source": [
    "for texto in texto_partes:\n",
    "    for clave in texto_clave:\n",
    "        if clave in texto:\n",
    "            print(texto)\n",
    "            break"
   ]
  },
  {
   "cell_type": "code",
   "execution_count": null,
   "metadata": {},
   "outputs": [],
   "source": [
    "for texto in texto_partes:\n",
    "    for clave in texto_clave:\n",
    "        if clave in texto:\n",
    "            print(texto.replace('C', 'Celcius'))\n",
    "            break"
   ]
  },
  {
   "cell_type": "markdown",
   "metadata": {},
   "source": [
    "## Ejercicio 2\n",
    "Formateando cadenas"
   ]
  },
  {
   "cell_type": "code",
   "execution_count": null,
   "metadata": {},
   "outputs": [],
   "source": [
    "name = 'Moon'\n",
    "gravity = 0.00162 # in km \n",
    "planet = 'Mars'\n",
    "\n",
    "titulo = f'Garvity facts about: {name}'\n",
    "print(titulo)"
   ]
  },
  {
   "cell_type": "code",
   "execution_count": null,
   "metadata": {},
   "outputs": [],
   "source": [
    "planet = \"Earth\"\n",
    "planet = planet.title()\n",
    "gravity = 0.00162 * 1000\n",
    "name = \"Moon\"\n",
    "cuerpo = f\"-----------\\nPlaneta Name:{planet}\\nGravity on the Moon: {gravity}\"\n",
    "titulo = f\"Gravity facts about: {name}\"\n",
    "print(f'{titulo}\\n{cuerpo}')"
   ]
  },
  {
   "cell_type": "code",
   "execution_count": 35,
   "metadata": {},
   "outputs": [
    {
     "name": "stdout",
     "output_type": "stream",
     "text": [
      "Gravity facts about: Ganímedes\n",
      "-----------\n",
      "Planeta Name:Mars\n",
      "Gravity on  Mars: 1.4300000000000002\n"
     ]
    }
   ],
   "source": [
    "planet = \"Mars\"\n",
    "planet = planet.title()\n",
    "gravity = 0.00143 * 1000\n",
    "name = \"Ganímedes\"\n",
    "cuerpo = f\"-----------\\nPlaneta Name:{planet}\\nGravity on  Mars: {gravity}\"\n",
    "titulo = f\"Gravity facts about: {name}\"\n",
    "print(f'{titulo}\\n{cuerpo}')"
   ]
  }
 ],
 "metadata": {
  "interpreter": {
   "hash": "5322818cae43cf6468214953b049884cb6ca7e8071f01fca2a6d6ce521d192bd"
  },
  "kernelspec": {
   "display_name": "Python 3.10.2 64-bit",
   "language": "python",
   "name": "python3"
  },
  "language_info": {
   "codemirror_mode": {
    "name": "ipython",
    "version": 3
   },
   "file_extension": ".py",
   "mimetype": "text/x-python",
   "name": "python",
   "nbconvert_exporter": "python",
   "pygments_lexer": "ipython3",
   "version": "3.10.2"
  },
  "orig_nbformat": 4
 },
 "nbformat": 4,
 "nbformat_minor": 2
}
